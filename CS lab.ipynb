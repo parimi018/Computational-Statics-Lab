{
 "cells": [
  {
   "cell_type": "markdown",
   "id": "bb3274bb",
   "metadata": {},
   "source": [
    "# Functions:"
   ]
  },
  {
   "cell_type": "code",
   "execution_count": 3,
   "id": "8f780681",
   "metadata": {},
   "outputs": [],
   "source": [
    "import math\n",
    "import numpy as np\n",
    "import pandas as pd\n",
    "import matplotlib.pyplot as plt\n",
    "def Mean(data):\n",
    "    s=0\n",
    "    n=0\n",
    "    for i in data:\n",
    "        s+=i  \n",
    "        n+=1\n",
    "    return s/n\n",
    " \n",
    "def count(data):\n",
    "    c=0\n",
    "    for i in data:\n",
    "        c+=1\n",
    "    return c\n",
    "\n",
    "def Sum(data):\n",
    "    s=0\n",
    "    for i in data:\n",
    "        s+=i\n",
    "    return s\n",
    "\n",
    "def det(data):\n",
    "    sum=0\n",
    "    sum=sum+mat[0][0]*((mat[1][1]*mat[2][2])-(mat[2][1]*mat[1][2]))\n",
    "    sum=sum-mat[0][1]*((mat[1][0]*mat[2][2])-(mat[2][0]*mat[1][2]))\n",
    "    sum=sum+mat[0][2]*((mat[1][0]*mat[2][1])-(mat[1][1]*mat[2][0]))\n",
    "    return sum\n"
   ]
  },
  {
   "cell_type": "markdown",
   "id": "be5194f3",
   "metadata": {},
   "source": [
    "# Write a python program to find the best fit straight line and draw the scatter plot:"
   ]
  },
  {
   "cell_type": "code",
   "execution_count": 17,
   "id": "640b9384",
   "metadata": {},
   "outputs": [
    {
     "name": "stdout",
     "output_type": "stream",
     "text": [
      "Enter x values:1 2 3 4 6 8\n",
      "Enter y values:2.4 3 3.6 4 5 6\n",
      "Best Fit\n"
     ]
    },
    {
     "data": {
      "image/png": "[encoded data removed]",
      "text/plain": [
       "<Figure size 432x288 with 1 Axes>"
      ]
     },
     "metadata": {
      "needs_background": "light"
     },
     "output_type": "display_data"
    }
   ],
   "source": [
    "def reg(x,y):\n",
    "    if(count(x)!=count(y)):\n",
    "        print('Invalid data, no of x values and no of of y values should be the same')\n",
    "        return\n",
    "    c=x*y\n",
    "    sigxy=Sum(c)\n",
    "    sigx=Sum(x)\n",
    "    sigy=Sum(y)\n",
    "    x2=x*x\n",
    "    sigx2=Sum(x2)\n",
    "    n=count(y)\n",
    "    m=((n*sigxy)-(sigx*sigy))/((n*sigx2)-(sigx**2))\n",
    "    c=(sigy-(m*sigx))/n\n",
    "    ycap=m*x+c\n",
    "    ybar=Mean(y)\n",
    "    SST=0\n",
    "    for i in range(n):\n",
    "        SST+=(y[i]-ybar)**2\n",
    "    SSE=0\n",
    "    for i in range(n):\n",
    "        SSE+=(y[i]-ycap[i])**2\n",
    "    \n",
    "    r=1-(SSE/SST)\n",
    "    if(r>0.9):\n",
    "        print('Best Fit')\n",
    "    else:\n",
    "        print('Not a Best Fit')\n",
    "        \n",
    "    plt.scatter(x,y)\n",
    "    plt.scatter(x,ycap)\n",
    "    plt.xlabel('x - axis')\n",
    "    plt.ylabel('y - axis')\n",
    "    plt.title('Linear Regression and Best Fit')\n",
    "    plt.show()\n",
    "    \n",
    "x=list(map(float,input('Enter x values:').split()))\n",
    "x=np.array(x)\n",
    "y=list(map(float,input('Enter y values:').split()))\n",
    "y=np.array(y)\n",
    "reg(x,y)"
   ]
  },
  {
   "cell_type": "markdown",
   "id": "41702d6c",
   "metadata": {},
   "source": [
    "# Write a python program to fit a second degree parabola of the form y=a+bx+cx2 and draw the scatter plot:"
   ]
  },
  {
   "cell_type": "code",
   "execution_count": 14,
   "id": "597abc7c",
   "metadata": {},
   "outputs": [
    {
     "name": "stdout",
     "output_type": "stream",
     "text": [
      "Enter values of x:0 1 2 3 4\n",
      "Enter values of y:1 1.8 1.3 2.5 6.3\n",
      "Best Fit\n"
     ]
    },
    {
     "data": {
      "image/png": "[encoded data removed]",
      "text/plain": [
       "<Figure size 432x288 with 1 Axes>"
      ]
     },
     "metadata": {
      "needs_background": "light"
     },
     "output_type": "display_data"
    }
   ],
   "source": [
    "def bfpara(x,y):\n",
    "    if(count(x)!=count(y)):\n",
    "        print('Invalid Data, no of x values and no of y values should be the same.')\n",
    "    n=count(x)\n",
    "    dm=np.array([[n,Sum(x),Sum(x*x)],\n",
    "                 [Sum(x),Sum(x*x),Sum(x*x*x)],\n",
    "                 [Sum(x*x),Sum(x*x*x),Sum(x*x*x*x)]])\n",
    "    d=det(dm)\n",
    "    dm1=np.array([[Sum(y),Sum(x),Sum(x*x)],\n",
    "                  [Sum(x*y),Sum(x*x),Sum(x*x*x)],\n",
    "                  [Sum((x*x)*y),Sum(x*x*x),Sum(x*x*x*x)]])\n",
    "    d1=det(dm1)\n",
    "    dm2=np.array([[n,Sum(y),Sum(x*x)],\n",
    "                  [Sum(x),Sum(x*y),Sum(x*x*x)],\n",
    "                  [Sum(x*x),Sum((x*x)*y),Sum(x*x*x*x)]])\n",
    "    d2=det(dm2)\n",
    "    dm3=np.array([[n,Sum(x),Sum(y)],\n",
    "                  [Sum(x),Sum(x*x),Sum(x*y)],\n",
    "                  [Sum(x*x),Sum(x*x*x),Sum((x*x)*y)]])\n",
    "    d3=det(dm3)\n",
    "    a=d1/d\n",
    "    b=d2/d\n",
    "    c=d3/d\n",
    "    ycap=a+(b*x)+(c*x*x)\n",
    "    ybar=Mean(y)\n",
    "    SST=0\n",
    "    for i in range(n):\n",
    "        SST+=(y[i]-ybar)**2\n",
    "    SSE=0\n",
    "    for i in range(n):\n",
    "        SSE+=(y[i]-ycap[i])**2\n",
    "    r=1-(SSE/SST)\n",
    "    if(r>0.9):\n",
    "        print('Best Fit')\n",
    "    else:\n",
    "        print('Not a Best Fit')\n",
    "    plt.scatter(x,y)\n",
    "    plt.scatter(x,ycap)\n",
    "    plt.xlabel('x - axis')\n",
    "    plt.ylabel('y - axis')\n",
    "    plt.title('Linear Regression and Best Fit')\n",
    "    plt.show()\n",
    "    \n",
    "x=list(map(float,input('Enter values of x:').split()))\n",
    "x=np.array(x)\n",
    "y=list(map(float,input('Enter values of y:').split()))\n",
    "y=np.array(y)\n",
    "bfpara(x,y)"
   ]
  },
  {
   "cell_type": "markdown",
   "id": "3052aa1f",
   "metadata": {},
   "source": [
    "# 3.\tWrite a python program to find Karl Pearson’s correlation coefficient. "
   ]
  },
  {
   "cell_type": "code",
   "execution_count": 2,
   "id": "369bb9a3",
   "metadata": {},
   "outputs": [
    {
     "name": "stdout",
     "output_type": "stream",
     "text": [
      "Enter values of x:6 8 9 10 11 12 14 16\n",
      "Enter values of y:14 17 15 18 16 22 25 26\n",
      "The Karl Pearson's Corelation coefficient is  0.9201\n"
     ]
    }
   ],
   "source": [
    "def COV(x,y):\n",
    "    n=count(x)\n",
    "    xbar=Mean(x)\n",
    "    ybar=Mean(y)\n",
    "    sigxy=Sum(x*y)\n",
    "    co=(sigxy/n)-(xbar*ybar)\n",
    "    return co\n",
    "    \n",
    "def sigma(data):\n",
    "    n=count(data)\n",
    "    databar=Mean(data)\n",
    "    sigdata2=Sum(data*data)\n",
    "    sig=math.sqrt((sigdata2/n)-(databar)**2)\n",
    "    return sig\n",
    "    \n",
    "def corcoe(x,y):\n",
    "    if(count(x)!=count(y)):\n",
    "        print('Invalid Data, no of x values and no of y values should be the same.')\n",
    "    r=round(COV(x,y)/(sigma(x)*sigma(y)),4)\n",
    "    return r\n",
    "    \n",
    "x=list(map(float,input('Enter values of x:').split()))\n",
    "x=np.array(x)\n",
    "y=list(map(float,input('Enter values of y:').split()))\n",
    "y=np.array(y)\n",
    "print(\"The Karl Pearson's Corelation coefficient is \",corcoe(x,y))"
   ]
  },
  {
   "cell_type": "markdown",
   "id": "5d2e08b1",
   "metadata": {},
   "source": [
    "# 4. Write a python program to find the Spearman’s correlation coefficient between x and y variables."
   ]
  },
  {
   "cell_type": "code",
   "execution_count": 11,
   "id": "872a78ee",
   "metadata": {},
   "outputs": [
    {
     "name": "stdout",
     "output_type": "stream",
     "text": [
      "Enter values of x:68  64  75  50  64  80  75  40  55  64\n",
      "Enter values of y:62  58  68  45  81  60  68  48  50  70\n",
      "   X values  Y values  Ranks of X  Ranks of Y  di values  di square values\n",
      "0      68.0      62.0         4.0         4.0        0.0             32.75\n",
      "1      64.0      58.0         8.5         9.0       -0.5             32.75\n",
      "2      75.0      68.0        10.0        10.5       -0.5             32.75\n",
      "3      50.0      45.0        17.0        18.5       -1.5             32.75\n",
      "4      64.0      81.0        21.5        18.5        3.0             32.75\n",
      "5      80.0      60.0        21.5        22.5       -1.0             32.75\n",
      "6      75.0      68.0        23.0        24.0       -1.0             32.75\n",
      "7      40.0      48.0        31.0        31.0        0.0             32.75\n",
      "8      55.0      50.0        37.0        37.0        0.0             32.75\n",
      "9      64.0      70.0        42.0        38.0        4.0             32.75\n",
      "Sum of di square is: 32.75\n",
      "Correction Factor is: 3.0\n",
      "Spearmans Rank Correlation Coefficient of the given data is: 0.8015151515151515\n"
     ]
    },
    {
     "data": {
      "text/plain": [
       "0.8015151515151515"
      ]
     },
     "execution_count": 11,
     "metadata": {},
     "output_type": "execute_result"
    }
   ],
   "source": [
    "def Rankify(a):\n",
    "    N=count(a)\n",
    "    bn=1\n",
    "    sn=0\n",
    "    ranks=[]\n",
    "    for i in range(N):\n",
    "        for j in range(i):\n",
    "            if(a[j]>a[i]):\n",
    "                bn+=1\n",
    "            if(a[j]==a[i]):\n",
    "                sn+=1\n",
    "        for j in range(i+1,N-1):\n",
    "            if(a[j]>a[i]):\n",
    "                bn+=1\n",
    "            if(a[j]==a[i]):\n",
    "                sn+=1\n",
    "        \n",
    "        ranks.append(bn+sn*0.5)\n",
    "    return ranks\n",
    "    \n",
    "def deldupli(a):\n",
    "    b=[]\n",
    "    for i in a:\n",
    "        if i not in b:\n",
    "            b.append(i)\n",
    "    return b\n",
    "\n",
    "def CF(a,b):\n",
    "    a=list(a)\n",
    "    b=list(b)\n",
    "    cf=0\n",
    "    nda=deldupli(a)\n",
    "    ndb=deldupli(b)\n",
    "    for i in nda:\n",
    "        count = a.count(i)\n",
    "        if count > 1:\n",
    "            cf += (count * (count**2 - 1)) / 12\n",
    "            \n",
    "    for i in ndb:\n",
    "        count = b.count(i)\n",
    "        if count > 1:\n",
    "            cf += (count * (count**2 - 1)) / 12\n",
    "    return cf\n",
    "\n",
    "def SRCC(x,y):\n",
    "    n=count(x)\n",
    "    if(count(x)!=count(y)):\n",
    "        print('Invalid Data, no of x values and no of y values should be the same.')\n",
    "    \n",
    "    rankx=Rankify(x)\n",
    "    ranky=Rankify(y)\n",
    "    di=np.subtract(rankx,ranky)\n",
    "    di2=di**2\n",
    "    sumdi2=Sum(di2)\n",
    "    \n",
    "    cf=CF(x,y)\n",
    "    sumdi2+=cf\n",
    "    SRCC = 1 - ((6 * sumdi2) / (n * (n**2 - 1)))\n",
    "    data={\n",
    "         \"X values\": x,\n",
    "        \"Y values\": y,\n",
    "        \"Ranks of X\": rankx,\n",
    "        \"Ranks of Y\": ranky,\n",
    "        \"di values\": di,\n",
    "        \"di square values\": sumdi2,\n",
    "    }\n",
    "    print(pd.DataFrame(data))\n",
    "    print(\"Sum of di square is:\",sumdi2)\n",
    "    print(\"Correction Factor is:\",cf)\n",
    "    print(\"Spearmans Rank Correlation Coefficient of the given data is:\",SRCC)\n",
    "    return SRCC\n",
    "    \n",
    "\n",
    "\n",
    "x=list(map(float,input('Enter values of x:').split()))\n",
    "x=np.array(x)\n",
    "y=list(map(float,input('Enter values of y:').split()))\n",
    "y=np.array(y)\n",
    "SRCC(x,y)"
   ]
  },
  {
   "cell_type": "code",
   "execution_count": null,
   "id": "62df46c8",
   "metadata": {},
   "outputs": [],
   "source": []
  }
 ],
 "metadata": {
  "kernelspec": {
   "display_name": "Python 3 (ipykernel)",
   "language": "python",
   "name": "python3"
  },
  "language_info": {
   "codemirror_mode": {
    "name": "ipython",
    "version": 3
   },
   "file_extension": ".py",
   "mimetype": "text/x-python",
   "name": "python",
   "nbconvert_exporter": "python",
   "pygments_lexer": "ipython3",
   "version": "3.9.7"
  }
 },
 "nbformat": 4,
 "nbformat_minor": 5
}
